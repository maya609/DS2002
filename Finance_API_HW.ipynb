{
  "nbformat": 4,
  "nbformat_minor": 0,
  "metadata": {
    "colab": {
      "provenance": [],
      "authorship_tag": "ABX9TyNaBLgHggHaYBPaV3mimrAs",
      "include_colab_link": true
    },
    "kernelspec": {
      "name": "python3",
      "display_name": "Python 3"
    },
    "language_info": {
      "name": "python"
    }
  },
  "cells": [
    {
      "cell_type": "markdown",
      "metadata": {
        "id": "view-in-github",
        "colab_type": "text"
      },
      "source": [
        "<a href=\"https://colab.research.google.com/github/maya609/DS2002/blob/main/Finance_API_HW.ipynb\" target=\"_parent\"><img src=\"https://colab.research.google.com/assets/colab-badge.svg\" alt=\"Open In Colab\"/></a>"
      ]
    },
    {
      "cell_type": "code",
      "execution_count": null,
      "metadata": {
        "colab": {
          "base_uri": "https://localhost:8080/"
        },
        "id": "6tzinqnQJ-05",
        "outputId": "fec8e2d4-bf07-4fbc-b1bc-78b36600540c"
      },
      "outputs": [
        {
          "output_type": "stream",
          "name": "stdout",
          "text": [
            "Input two or more stock symbols (separate each symbol with a comma. Ex. AAPL,MSFT): AAPL,MSFT\n",
            "  Stock Symbol           Company Name Market Price\n",
            "0         AAPL             Apple Inc.      $240.36\n",
            "1         MSFT  Microsoft Corporation      $399.73\n"
          ]
        }
      ],
      "source": [
        "import requests\n",
        "import json\n",
        "import pandas as pd\n",
        "\n",
        "pd.set_option('display.max_columns', None)\n",
        "\n",
        "stocks = input(\"Input two or more stock symbols (separate each symbol with a comma. Ex. AAPL,MSFT): \").strip().replace(\" \",\"\").upper()\n",
        "\n",
        "url = \"https://yfapi.net/v6/finance/quote\"\n",
        "\n",
        "querystring = {\"symbols\":stocks}\n",
        "apikey=\"1Q9VWASzM07N6ZTmx7jnm8WD4rW9NjEw2SLM0inN\"\n",
        "\n",
        "headers = {\n",
        "    'x-api-key': apikey\n",
        "    }\n",
        "response = requests.request(\"GET\", url, headers=headers, params=querystring)\n",
        "\n",
        "df = pd.DataFrame(response.json()['quoteResponse']['result'])\n",
        "df = df[['symbol', 'shortName', 'regularMarketPrice']].rename(\n",
        "    columns={'symbol': 'Stock Symbol', 'shortName': 'Company Name', 'regularMarketPrice': 'Market Price'}\n",
        ")\n",
        "df['Market Price'] = df['Market Price'].apply(lambda x: f\"${x:,.2f}\" if pd.notna(x) else \"N/A\")\n",
        "print(df[['Stock Symbol','Company Name','Market Price']])\n",
        "\n"
      ]
    },
    {
      "cell_type": "code",
      "source": [
        "import requests\n",
        "import json\n",
        "import pandas as pd\n",
        "\n",
        "\n",
        "stocks = input(\"Enter stock symbols separated by commas (Ex. AAPL, MSFT, TSLA): \").strip().replace(\" \", \"\").upper()\n",
        "\n",
        "modules = {\n",
        "    \"1\": \"summaryDetail\",\n",
        "    \"2\": \"financialData\"\n",
        "}\n",
        "\n",
        "print(\"\\nChoose a module:\")\n",
        "print(\"1 - Summary Detail (52 Week High, 52 Week Low)\")\n",
        "print(\"2 - Financial Data (Return on Assets)\")\n",
        "choice = input(\"Enter the number corresponding to your choice: \").strip()\n",
        "\n",
        "if choice not in modules:\n",
        "    print(\"Invalid choice. Exiting.\")\n",
        "    exit()\n",
        "\n",
        "selected_module = modules[choice]\n",
        "\n",
        "url = f\"https://yfapi.net/v11/finance/quoteSummary/{stocks}\"\n",
        "apikey = \"1Q9VWASzM07N6ZTmx7jnm8WD4rW9NjEw2SLM0inN\"\n",
        "\n",
        "params = {\"modules\": selected_module}\n",
        "headers = {\"x-api-key\": apikey}\n",
        "\n",
        "response = requests.get(url, headers=headers, params=params)\n",
        "data = response.json()\n",
        "\n",
        "if not data.get('quoteSummary') or not data['quoteSummary'].get('result'):\n",
        "    print(\"No data found for the given symbols.\")\n",
        "    exit()\n",
        "\n",
        "results = []\n",
        "for stock_data in data['quoteSummary']['result']:\n",
        "    stock = stocks\n",
        "    if selected_module == \"summaryDetail\":\n",
        "        details = stock_data.get('summaryDetail', {})\n",
        "        extracted_data = {\n",
        "            \"Stock Symbol\": stock,\n",
        "            \"52 Week High\": details.get('fiftyTwoWeekHigh', {}).get('raw', \"N/A\"),\n",
        "            \"52 Week Low\": details.get('fiftyTwoWeekLow', {}).get('raw', \"N/A\")\n",
        "        }\n",
        "    elif selected_module == \"financialData\":\n",
        "        financials = stock_data.get('financialData', {})\n",
        "        extracted_data = {\n",
        "            \"Stock Symbol\": stock,\n",
        "            \"Return on Assets (ROA)\": financials.get('returnOnAssets', {}).get('raw', \"N/A\")\n",
        "        }\n",
        "\n",
        "    results.append(extracted_data)\n",
        "\n",
        "df = pd.DataFrame(results)\n",
        "print(\"\\n\", df)"
      ],
      "metadata": {
        "colab": {
          "base_uri": "https://localhost:8080/"
        },
        "id": "xDil2fxDPezS",
        "outputId": "b53b216a-71f8-48c3-846f-44c9c1fedd76"
      },
      "execution_count": null,
      "outputs": [
        {
          "output_type": "stream",
          "name": "stdout",
          "text": [
            "Enter stock symbols separated by commas (Ex. AAPL, MSFT, TSLA): MSFT\n",
            "\n",
            "Choose a module:\n",
            "1 - Summary Detail (52 Week High, 52 Week Low)\n",
            "2 - Financial Data (Return on Assets)\n",
            "Enter the number corresponding to your choice: 2\n",
            "\n",
            "   Stock Symbol  Return on Assets (ROA)\n",
            "0         MSFT                 0.14649\n"
          ]
        }
      ]
    },
    {
      "cell_type": "code",
      "source": [
        "import requests\n",
        "import pandas as pd\n",
        "\n",
        "apikey = \"1Q9VWASzM07N6ZTmx7jnm8WD4rW9NjEw2SLM0inN\"\n",
        "headers = {\"x-api-key\": apikey}\n",
        "\n",
        "trending_url = \"https://yfapi.net/v1/finance/trending/US\"\n",
        "response = requests.get(trending_url, headers=headers)\n",
        "\n",
        "if response.status_code != 200:\n",
        "    print(\"Error fetching trending stocks:\", response.status_code)\n",
        "else:\n",
        "    data = response.json()\n",
        "\n",
        "    if 'finance' in data and 'result' in data['finance'] and data['finance']['result']:\n",
        "        trending_tickers = [stock['symbol'] for stock in data['finance']['result'][0]['quotes'][:5]]\n",
        "\n",
        "        results = []\n",
        "\n",
        "        for ticker in trending_tickers:\n",
        "            quote_url = f\"https://yfapi.net/v11/finance/quoteSummary/{ticker}\"\n",
        "            params = {\"modules\": \"summaryDetail,price\"}\n",
        "\n",
        "            response = requests.get(quote_url, headers=headers, params=params)\n",
        "\n",
        "            if response.status_code == 200:\n",
        "                quote_data = response.json()\n",
        "\n",
        "                if 'quoteSummary' in quote_data and quote_data['quoteSummary'].get('result'):\n",
        "                    stock_info = quote_data['quoteSummary']['result'][0]\n",
        "                    details = stock_info.get('summaryDetail', {})\n",
        "                    price_info = stock_info.get('price', {})\n",
        "\n",
        "                    company_name = price_info.get('longName', \"N/A\")\n",
        "                    market_price = price_info.get('regularMarketPrice', {}).get('raw', \"N/A\")\n",
        "\n",
        "                    extracted_data = {\n",
        "                        \"Stock Symbol\": ticker,\n",
        "                        \"Company Name\": company_name,\n",
        "                        \"Market Price\": market_price,\n",
        "                        \"52 Week High\": details.get('fiftyTwoWeekHigh', {}).get('raw', \"N/A\"),\n",
        "                        \"52 Week Low\": details.get('fiftyTwoWeekLow', {}).get('raw', \"N/A\")\n",
        "                    }\n",
        "                    results.append(extracted_data)\n",
        "                else:\n",
        "                    print(f\"No data found for {ticker}\")\n",
        "            else:\n",
        "                print(f\"Error fetching data for {ticker}: {response.status_code}\")\n",
        "\n",
        "        df = pd.DataFrame(results)\n",
        "        if df.empty:\n",
        "            print(\"No stock data available.\")\n",
        "        else:\n",
        "            print(\"\\nTrending Stocks Data:\\n\", df)\n",
        "\n",
        "    else:\n",
        "        print(\"No trending stock data found.\")\n"
      ],
      "metadata": {
        "colab": {
          "base_uri": "https://localhost:8080/"
        },
        "id": "N0ikspFxtuel",
        "outputId": "6f0e0ecf-943d-4c4b-9140-5d787d67ec6c"
      },
      "execution_count": 11,
      "outputs": [
        {
          "output_type": "stream",
          "name": "stdout",
          "text": [
            "\n",
            "Trending Stocks Data:\n",
            "   Stock Symbol        Company Name  Market Price  52 Week High  52 Week Low\n",
            "0         NVDA  NVIDIA Corporation        131.28        153.13       75.606\n",
            "1          CRM    Salesforce, Inc.        307.33        369.00      212.000\n",
            "2         SNOW      Snowflake Inc.        166.19        194.40      107.130\n",
            "3         IONQ          IonQ, Inc.         29.93         54.74        6.220\n",
            "4         BYND   Beyond Meat, Inc.          3.56         11.70        3.300\n"
          ]
        }
      ]
    }
  ]
}